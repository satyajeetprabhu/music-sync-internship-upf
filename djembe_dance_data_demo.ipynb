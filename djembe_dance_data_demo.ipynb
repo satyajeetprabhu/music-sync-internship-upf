{
 "cells": [
  {
   "cell_type": "code",
   "execution_count": 1,
   "metadata": {},
   "outputs": [],
   "source": [
    "import matplotlib.pyplot as plt\n",
    "import os, sys\n",
    "import numpy as np\n",
    "import IPython.display as ipd\n",
    "import pandas as pd\n",
    "from carat import annotations, audio, display, microtiming, util\n",
    "import onsetsync\n",
    "%matplotlib inline"
   ]
  },
  {
   "cell_type": "markdown",
   "metadata": {},
   "source": [
    "### File Paths"
   ]
  },
  {
   "cell_type": "code",
   "execution_count": 2,
   "metadata": {},
   "outputs": [],
   "source": [
    "meter_path = 'example_data/djembedancedata/BKO_E1_D1_02_Maraka_C_Marker in sec.csv'\n",
    "D1_path = 'example_data/djembedancedata/BKO_E1_D1_02_Maraka_P-Dun_vamp_bbc-vamp-plugins_bbc-rhythm_onset.csv'\n",
    "J1_path = 'example_data/djembedancedata/BKO_E1_D1_02_Maraka_P-Jem-1_vamp_bbc-vamp-plugins_bbc-rhythm_onset.csv'\n",
    "J2_path = 'example_data/djembedancedata/BKO_E1_D1_02_Maraka_P-Jem-2_vamp_bbc-vamp-plugins_bbc-rhythm_onset.csv'"
   ]
  },
  {
   "cell_type": "markdown",
   "metadata": {},
   "source": [
    "### Load Onset annotations"
   ]
  },
  {
   "cell_type": "code",
   "execution_count": 3,
   "metadata": {},
   "outputs": [
    {
     "data": {
      "text/html": [
       "<div>\n",
       "<style scoped>\n",
       "    .dataframe tbody tr th:only-of-type {\n",
       "        vertical-align: middle;\n",
       "    }\n",
       "\n",
       "    .dataframe tbody tr th {\n",
       "        vertical-align: top;\n",
       "    }\n",
       "\n",
       "    .dataframe thead th {\n",
       "        text-align: right;\n",
       "    }\n",
       "</style>\n",
       "<table border=\"1\" class=\"dataframe\">\n",
       "  <thead>\n",
       "    <tr style=\"text-align: right;\">\n",
       "      <th></th>\n",
       "      <th>D1</th>\n",
       "      <th>J1</th>\n",
       "      <th>J2</th>\n",
       "    </tr>\n",
       "  </thead>\n",
       "  <tbody>\n",
       "    <tr>\n",
       "      <th>0</th>\n",
       "      <td>8.551000</td>\n",
       "      <td>5.881667</td>\n",
       "      <td>10.951000</td>\n",
       "    </tr>\n",
       "    <tr>\n",
       "      <th>1</th>\n",
       "      <td>10.073667</td>\n",
       "      <td>6.143000</td>\n",
       "      <td>11.161667</td>\n",
       "    </tr>\n",
       "    <tr>\n",
       "      <th>2</th>\n",
       "      <td>10.484333</td>\n",
       "      <td>6.335000</td>\n",
       "      <td>11.569667</td>\n",
       "    </tr>\n",
       "    <tr>\n",
       "      <th>3</th>\n",
       "      <td>10.889667</td>\n",
       "      <td>6.428333</td>\n",
       "      <td>11.785667</td>\n",
       "    </tr>\n",
       "    <tr>\n",
       "      <th>4</th>\n",
       "      <td>11.127000</td>\n",
       "      <td>6.543000</td>\n",
       "      <td>12.207000</td>\n",
       "    </tr>\n",
       "    <tr>\n",
       "      <th>5</th>\n",
       "      <td>11.583000</td>\n",
       "      <td>6.633667</td>\n",
       "      <td>12.420333</td>\n",
       "    </tr>\n",
       "    <tr>\n",
       "      <th>6</th>\n",
       "      <td>12.009667</td>\n",
       "      <td>6.793667</td>\n",
       "      <td>12.844333</td>\n",
       "    </tr>\n",
       "    <tr>\n",
       "      <th>7</th>\n",
       "      <td>12.668333</td>\n",
       "      <td>7.012333</td>\n",
       "      <td>13.068333</td>\n",
       "    </tr>\n",
       "    <tr>\n",
       "      <th>8</th>\n",
       "      <td>13.068333</td>\n",
       "      <td>7.220333</td>\n",
       "      <td>13.497667</td>\n",
       "    </tr>\n",
       "    <tr>\n",
       "      <th>9</th>\n",
       "      <td>13.481667</td>\n",
       "      <td>7.452333</td>\n",
       "      <td>13.735000</td>\n",
       "    </tr>\n",
       "  </tbody>\n",
       "</table>\n",
       "</div>"
      ],
      "text/plain": [
       "          D1        J1         J2\n",
       "0   8.551000  5.881667  10.951000\n",
       "1  10.073667  6.143000  11.161667\n",
       "2  10.484333  6.335000  11.569667\n",
       "3  10.889667  6.428333  11.785667\n",
       "4  11.127000  6.543000  12.207000\n",
       "5  11.583000  6.633667  12.420333\n",
       "6  12.009667  6.793667  12.844333\n",
       "7  12.668333  7.012333  13.068333\n",
       "8  13.068333  7.220333  13.497667\n",
       "9  13.481667  7.452333  13.735000"
      ]
     },
     "execution_count": 3,
     "metadata": {},
     "output_type": "execute_result"
    }
   ],
   "source": [
    "df = onsetsync.get_df_csv([D1_path, J1_path, J2_path], delimiter=';', concat_axis=1, header=None)\n",
    "\n",
    "# Add header to the dataframe\n",
    "df.columns = ['D1', 'J1', 'J2']\n",
    "df.head(10)"
   ]
  },
  {
   "cell_type": "markdown",
   "metadata": {},
   "source": [
    "### Load Meter annotations"
   ]
  },
  {
   "cell_type": "code",
   "execution_count": 4,
   "metadata": {},
   "outputs": [
    {
     "data": {
      "text/html": [
       "<div>\n",
       "<style scoped>\n",
       "    .dataframe tbody tr th:only-of-type {\n",
       "        vertical-align: middle;\n",
       "    }\n",
       "\n",
       "    .dataframe tbody tr th {\n",
       "        vertical-align: top;\n",
       "    }\n",
       "\n",
       "    .dataframe thead th {\n",
       "        text-align: right;\n",
       "    }\n",
       "</style>\n",
       "<table border=\"1\" class=\"dataframe\">\n",
       "  <thead>\n",
       "    <tr style=\"text-align: right;\">\n",
       "      <th></th>\n",
       "      <th>Keyboard.Time</th>\n",
       "    </tr>\n",
       "  </thead>\n",
       "  <tbody>\n",
       "    <tr>\n",
       "      <th>0</th>\n",
       "      <td>11.129</td>\n",
       "    </tr>\n",
       "    <tr>\n",
       "      <th>1</th>\n",
       "      <td>13.706</td>\n",
       "    </tr>\n",
       "    <tr>\n",
       "      <th>2</th>\n",
       "      <td>16.260</td>\n",
       "    </tr>\n",
       "    <tr>\n",
       "      <th>3</th>\n",
       "      <td>18.728</td>\n",
       "    </tr>\n",
       "    <tr>\n",
       "      <th>4</th>\n",
       "      <td>21.223</td>\n",
       "    </tr>\n",
       "  </tbody>\n",
       "</table>\n",
       "</div>"
      ],
      "text/plain": [
       "   Keyboard.Time\n",
       "0         11.129\n",
       "1         13.706\n",
       "2         16.260\n",
       "3         18.728\n",
       "4         21.223"
      ]
     },
     "execution_count": 4,
     "metadata": {},
     "output_type": "execute_result"
    }
   ],
   "source": [
    "meter_df = onsetsync.get_df_csv(meter_path, delimiter=';')\n",
    "meter_df.columns = ['Keyboard.Time']\n",
    "meter_df.head()"
   ]
  },
  {
   "cell_type": "markdown",
   "metadata": {},
   "source": [
    "#### Visualise Onsets and Cycle Starts"
   ]
  },
  {
   "cell_type": "code",
   "execution_count": 5,
   "metadata": {},
   "outputs": [],
   "source": [
    "def plot_cycles(df, meter_df, cycle_column, time_lower, time_upper):    \n",
    "    # Create subplots\n",
    "    fig, axes = plt.subplots(nrows=3, ncols=1, sharex=True, figsize=(10, 6))\n",
    "\n",
    "    # Plot each instrument column as subplots\n",
    "    for i, column in enumerate(df.columns):\n",
    "        for value in df[column]:\n",
    "            axes[i].axvline(x=value, ymin=0, ymax=1, color='b', linewidth=0.5)\n",
    "        \n",
    "        # Overlay cycle start annotations\n",
    "        for meter in meter_df[cycle_column]:\n",
    "            axes[i].axvline(x=meter, ymin=0, ymax=1, color='black', linestyle='dotted')\n",
    "\n",
    "        # Time range 10s to 20s\n",
    "        axes[i].set_xlim(time_lower, time_upper) \n",
    "        axes[i].set_ylim(0, 1)  # Limit y-axis from 0 to 1 for visualization\n",
    "        axes[i].set_ylabel(column)\n",
    "\n",
    "    # Set shared x-axis label\n",
    "    axes[-1].set_xlabel('Time (s)')\n",
    "\n",
    "    # Show the plot\n",
    "    plt.tight_layout()\n",
    "    plt.show()"
   ]
  },
  {
   "cell_type": "code",
   "execution_count": 6,
   "metadata": {},
   "outputs": [
    {
     "data": {
      "image/png": "[encoded data removed]",
      "text/plain": [
       "<Figure size 720x432 with 3 Axes>"
      ]
     },
     "metadata": {
      "needs_background": "light"
     },
     "output_type": "display_data"
    }
   ],
   "source": [
    "plot_cycles(df, meter_df, 'Keyboard.Time', time_lower=25, time_upper=30)"
   ]
  },
  {
   "cell_type": "markdown",
   "metadata": {},
   "source": [
    "## Detrending"
   ]
  },
  {
   "cell_type": "markdown",
   "metadata": {},
   "source": [
    "#### Function Definitions"
   ]
  },
  {
   "cell_type": "code",
   "execution_count": 7,
   "metadata": {},
   "outputs": [],
   "source": [
    "def add_window(df, cycle_column, window_shape, num_div):\n",
    "    \n",
    "    df = df.copy()\n",
    "    # Window of tolerance for left and right of the cycle annotation\n",
    "    tol_L = (1/num_div) * window_shape[0]\n",
    "    tol_R = (1/num_div) * window_shape[1]\n",
    "\n",
    "    # Calculate cycle lengths on either side of keyboard times\n",
    "    df['diffL'] = df[cycle_column].diff()  # iloc(n) - iloc(n-1)\n",
    "    df['diffR'] = df['diffL'].shift(-1)  # iloc(n+1) - iloc(n)\n",
    "\n",
    "    # Handle the NaN values by filling with the nearest available value\n",
    "    df['diffL'].fillna(df['diffR'], inplace=True)  # First entry: copy the next value from diffR\n",
    "    df['diffR'].fillna(df['diffL'], inplace=True)  # Last entry: copy the previous value from diffL\n",
    "\n",
    "    # Create window on the left and right side of the keyboard time\n",
    "    df['window_L'] = df['Keyboard.Time'] - (df['diffL'] * tol_L)\n",
    "    df['window_R'] = df['Keyboard.Time'] + (df['diffR'] * tol_R)\n",
    "\n",
    "    df.drop(columns=['diffL', 'diffR'], inplace=True)\n",
    "\n",
    "    return df\n",
    "\n",
    "\n",
    "def find_closest_onset(time, df):\n",
    "    \"\"\"\n",
    "    Finds the closest value to `time` in the entire DataFrame `df`.\n",
    "    Ignores NaN values.\n",
    "    \"\"\"\n",
    "    values = df.values.flatten()  # Flatten the DataFrame to a 1D array\n",
    "    values = values[~np.isnan(values)]  # Remove NaN values\n",
    "    closest_value = values[(abs(values - time)).argmin()]  # Find the closest value to `time`\n",
    "    return closest_value\n",
    "\n",
    "\n",
    "def find_onsets_in_window(window_L, window_R, df):\n",
    "    valid_onsets_list = []\n",
    "    \n",
    "    for column in df.columns:\n",
    "        valid_onsets = df[column].dropna().loc[(df[column] >= window_L) & (df[column] <= window_R)].values\n",
    "        \n",
    "        if valid_onsets.size > 0:\n",
    "            valid_onsets_list.append(valid_onsets)\n",
    "        else:\n",
    "            valid_onsets_list.append(np.array([]))\n",
    "    \n",
    "    return valid_onsets_list"
   ]
  },
  {
   "cell_type": "markdown",
   "metadata": {},
   "source": [
    "### Mode 2 : Intermediate \"instrument anchor\" (level 2 m.cycle) "
   ]
  },
  {
   "cell_type": "markdown",
   "metadata": {},
   "source": [
    "['downbeats to onsets' eq.]\n",
    "1. Closest instrument (mixed) [choose closest onset to lev1, either instr1 or\n",
    "instr2]\n",
    "2. defined.instr.rules [take window, show preference for defined.instr, e.g.\n",
    "If there is an instr1 stroke in the window select it, else go for the instr2]\n"
   ]
  },
  {
   "cell_type": "code",
   "execution_count": 8,
   "metadata": {},
   "outputs": [],
   "source": [
    "# Main function to add Anchor.Time columns to meter_df based on mode\n",
    "def detrend_anchor(meter_df, time_column, instr_df, window_shape=(0.5,0.5), num_div=None, mode=1):\n",
    "    \"\"\"\n",
    "    Adds level 2 m.cycle times to `meter_df` based on Intermediate \"instrument anchor\" method.\n",
    "    \n",
    "    Parameters:\n",
    "    - meter_df: DataFrame containing the 'Keyboard.Time' column.\n",
    "    - instr_df: DataFrame containing the onset times of instruments. The order of columns assumes order of preference.\n",
    "    - window_shape: Parameter for defining the shape of the window (used in mode=2).\n",
    "    - num_div: Parameter for dividing the window (used in mode=2).\n",
    "    - mode: Determines which method to use.\n",
    "      - mode=1: Uses `Closest Instrument.\n",
    "      - mode=2: Uses `defined.instr.rules`.\n",
    "    \n",
    "    Returns:\n",
    "    - meter_df with the new 'Anchor.Time.1' or 'Anchor.Time.2' column added.\n",
    "    \"\"\"\n",
    "    \n",
    "    meter_df = meter_df.copy()\n",
    "    \n",
    "    if mode == 1:\n",
    "        # Add Anchor.Time.1 based on the closest onset among all instruments\n",
    "        meter_df['Anchor.Time.1'] = meter_df[time_column].apply(lambda time: find_closest_onset(time, instr_df))\n",
    "\n",
    "    elif mode == 2:\n",
    "        \n",
    "        meter_df = add_window(meter_df, time_column, window_shape, num_div)\n",
    "\n",
    "        for index, row in meter_df.iterrows():\n",
    "            time = row[time_column]\n",
    "            win_L = row['window_L']\n",
    "            win_R = row['window_R']\n",
    "\n",
    "            # Find the closest onset within the window\n",
    "            valid_onsets = find_onsets_in_window(win_L, win_R, instr_df)\n",
    "\n",
    "            closest_onset = time  # Default to original time if no valid onsets are found\n",
    "            \n",
    "            # Iterate over all valid onsets collected from different columns\n",
    "            for onset_array in valid_onsets:\n",
    "                if onset_array.size > 0:\n",
    "                    # Compute the absolute differences between 'time' and each valid onset\n",
    "                    differences = np.abs(onset_array - time)\n",
    "                    # Find the onset with the minimum difference\n",
    "                    closest_onset = onset_array[np.argmin(differences)]\n",
    "                    break  # Exit after finding the closest onset in the first non-empty array\n",
    "\n",
    "            meter_df.at[index, 'Anchor.Time.2'] = closest_onset\n",
    "        \n",
    "        # Drop the window columns after the operation\n",
    "        meter_df.drop(columns=['window_L', 'window_R'], inplace=True)\n",
    "        \n",
    "    else:\n",
    "        raise ValueError(\"Invalid mode! Use mode=1 or mode=2\")\n",
    "\n",
    "    return meter_df"
   ]
  },
  {
   "cell_type": "markdown",
   "metadata": {},
   "source": [
    "#### Select subdivisions, window shape"
   ]
  },
  {
   "cell_type": "code",
   "execution_count": 9,
   "metadata": {},
   "outputs": [],
   "source": [
    "num_div = 12\n",
    "window_shape = (0.5, 0.5)"
   ]
  },
  {
   "cell_type": "markdown",
   "metadata": {},
   "source": [
    "#### Mode 2.1 : Instrument Anchor - Closest Instrument"
   ]
  },
  {
   "cell_type": "code",
   "execution_count": 10,
   "metadata": {},
   "outputs": [],
   "source": [
    "# ['D1', 'J1', 'J2']\n",
    "defined_instr = ['J1'] "
   ]
  },
  {
   "cell_type": "code",
   "execution_count": 12,
   "metadata": {},
   "outputs": [],
   "source": [
    "meter_df = detrend_anchor(meter_df, \n",
    "                           time_column='Keyboard.Time', \n",
    "                           instr_df=df[defined_instr], \n",
    "                           window_shape=window_shape, \n",
    "                           num_div=num_div, \n",
    "                           mode=1)"
   ]
  },
  {
   "cell_type": "code",
   "execution_count": 13,
   "metadata": {},
   "outputs": [
    {
     "data": {
      "text/html": [
       "<div>\n",
       "<style scoped>\n",
       "    .dataframe tbody tr th:only-of-type {\n",
       "        vertical-align: middle;\n",
       "    }\n",
       "\n",
       "    .dataframe tbody tr th {\n",
       "        vertical-align: top;\n",
       "    }\n",
       "\n",
       "    .dataframe thead th {\n",
       "        text-align: right;\n",
       "    }\n",
       "</style>\n",
       "<table border=\"1\" class=\"dataframe\">\n",
       "  <thead>\n",
       "    <tr style=\"text-align: right;\">\n",
       "      <th></th>\n",
       "      <th>Keyboard.Time</th>\n",
       "      <th>Anchor.Time.1</th>\n",
       "    </tr>\n",
       "  </thead>\n",
       "  <tbody>\n",
       "    <tr>\n",
       "      <th>0</th>\n",
       "      <td>11.129</td>\n",
       "      <td>11.108333</td>\n",
       "    </tr>\n",
       "    <tr>\n",
       "      <th>1</th>\n",
       "      <td>13.706</td>\n",
       "      <td>13.497667</td>\n",
       "    </tr>\n",
       "    <tr>\n",
       "      <th>2</th>\n",
       "      <td>16.260</td>\n",
       "      <td>16.249667</td>\n",
       "    </tr>\n",
       "    <tr>\n",
       "      <th>3</th>\n",
       "      <td>18.728</td>\n",
       "      <td>18.729667</td>\n",
       "    </tr>\n",
       "    <tr>\n",
       "      <th>4</th>\n",
       "      <td>21.223</td>\n",
       "      <td>21.025667</td>\n",
       "    </tr>\n",
       "  </tbody>\n",
       "</table>\n",
       "</div>"
      ],
      "text/plain": [
       "   Keyboard.Time  Anchor.Time.1\n",
       "0         11.129      11.108333\n",
       "1         13.706      13.497667\n",
       "2         16.260      16.249667\n",
       "3         18.728      18.729667\n",
       "4         21.223      21.025667"
      ]
     },
     "execution_count": 13,
     "metadata": {},
     "output_type": "execute_result"
    }
   ],
   "source": [
    "meter_df.head()"
   ]
  },
  {
   "cell_type": "code",
   "execution_count": 14,
   "metadata": {},
   "outputs": [
    {
     "data": {
      "image/png": "[encoded data removed]",
      "text/plain": [
       "<Figure size 720x432 with 3 Axes>"
      ]
     },
     "metadata": {
      "needs_background": "light"
     },
     "output_type": "display_data"
    }
   ],
   "source": [
    "plot_cycles(df, meter_df, 'Anchor.Time.1', time_lower=25, time_upper=30)"
   ]
  },
  {
   "cell_type": "markdown",
   "metadata": {},
   "source": [
    "### Mode 2.2 : Instrument Anchor - defined.instr.rules"
   ]
  },
  {
   "cell_type": "markdown",
   "metadata": {},
   "source": [
    "For this sub-mode, order of preference is assumed in the list. For example in the list below D1 > J1 > J2"
   ]
  },
  {
   "cell_type": "code",
   "execution_count": 15,
   "metadata": {},
   "outputs": [],
   "source": [
    "defined_instr = ['D1', 'J1', 'J2']"
   ]
  },
  {
   "cell_type": "code",
   "execution_count": 16,
   "metadata": {},
   "outputs": [],
   "source": [
    "meter_df = detrend_anchor(meter_df, \n",
    "                           time_column='Keyboard.Time', \n",
    "                           instr_df=df[defined_instr], \n",
    "                           window_shape=window_shape, \n",
    "                           num_div=num_div, \n",
    "                           mode=2)"
   ]
  },
  {
   "cell_type": "code",
   "execution_count": 17,
   "metadata": {},
   "outputs": [
    {
     "data": {
      "text/html": [
       "<div>\n",
       "<style scoped>\n",
       "    .dataframe tbody tr th:only-of-type {\n",
       "        vertical-align: middle;\n",
       "    }\n",
       "\n",
       "    .dataframe tbody tr th {\n",
       "        vertical-align: top;\n",
       "    }\n",
       "\n",
       "    .dataframe thead th {\n",
       "        text-align: right;\n",
       "    }\n",
       "</style>\n",
       "<table border=\"1\" class=\"dataframe\">\n",
       "  <thead>\n",
       "    <tr style=\"text-align: right;\">\n",
       "      <th></th>\n",
       "      <th>Keyboard.Time</th>\n",
       "      <th>Anchor.Time.1</th>\n",
       "      <th>Anchor.Time.2</th>\n",
       "    </tr>\n",
       "  </thead>\n",
       "  <tbody>\n",
       "    <tr>\n",
       "      <th>0</th>\n",
       "      <td>11.129</td>\n",
       "      <td>11.108333</td>\n",
       "      <td>11.127000</td>\n",
       "    </tr>\n",
       "    <tr>\n",
       "      <th>1</th>\n",
       "      <td>13.706</td>\n",
       "      <td>13.497667</td>\n",
       "      <td>13.700333</td>\n",
       "    </tr>\n",
       "    <tr>\n",
       "      <th>2</th>\n",
       "      <td>16.260</td>\n",
       "      <td>16.249667</td>\n",
       "      <td>16.263000</td>\n",
       "    </tr>\n",
       "    <tr>\n",
       "      <th>3</th>\n",
       "      <td>18.728</td>\n",
       "      <td>18.729667</td>\n",
       "      <td>18.732333</td>\n",
       "    </tr>\n",
       "    <tr>\n",
       "      <th>4</th>\n",
       "      <td>21.223</td>\n",
       "      <td>21.025667</td>\n",
       "      <td>21.223000</td>\n",
       "    </tr>\n",
       "  </tbody>\n",
       "</table>\n",
       "</div>"
      ],
      "text/plain": [
       "   Keyboard.Time  Anchor.Time.1  Anchor.Time.2\n",
       "0         11.129      11.108333      11.127000\n",
       "1         13.706      13.497667      13.700333\n",
       "2         16.260      16.249667      16.263000\n",
       "3         18.728      18.729667      18.732333\n",
       "4         21.223      21.025667      21.223000"
      ]
     },
     "execution_count": 17,
     "metadata": {},
     "output_type": "execute_result"
    }
   ],
   "source": [
    "meter_df.head()"
   ]
  },
  {
   "cell_type": "code",
   "execution_count": 18,
   "metadata": {},
   "outputs": [
    {
     "data": {
      "image/png": "[encoded data removed]",
      "text/plain": [
       "<Figure size 720x432 with 3 Axes>"
      ]
     },
     "metadata": {
      "needs_background": "light"
     },
     "output_type": "display_data"
    }
   ],
   "source": [
    "plot_cycles(df, meter_df, 'Anchor.Time.2', time_lower=25, time_upper=30)"
   ]
  },
  {
   "cell_type": "markdown",
   "metadata": {},
   "source": [
    "### Create new DF by interpolating Cycles into 12 subdivisions"
   ]
  },
  {
   "cell_type": "code",
   "execution_count": 20,
   "metadata": {},
   "outputs": [],
   "source": [
    "# Create interpolated points\n",
    "cycle_times = meter_df['Keyboard.Time'].to_numpy()\n",
    "\n",
    "interp_time = [np.linspace(cycle_times[i], cycle_times[i + 1], num_div+1)[:-1] for i in range(len(cycle_times) - 1)]\n",
    "interp_time = np.concatenate(interp_time)\n",
    "interp_time = np.append(interp_time, cycle_times[-1])\n",
    "\n",
    "# Create cycle numbers\n",
    "cycle_numbers = np.repeat(np.arange(1, len(cycle_times)), num_div)\n",
    "cycle_numbers = np.append(cycle_numbers, len(cycle_times))\n",
    "\n",
    "# Create a dataframe\n",
    "new_df = pd.DataFrame({\n",
    "    'Cycle': cycle_numbers,\n",
    "    'Subdivision': np.append(np.tile(np.arange(1, num_div+1), len(cycle_times) - 1), 1),\n",
    "    'Iso.Time': interp_time       \n",
    "})\n",
    "\n",
    "# Insert original cycle times at subdivision 1 positions\n",
    "new_df['Cycle.Time'] = np.nan  # Initialize the column with NaN\n",
    "new_df.loc[new_df['Subdivision'] == 1, 'Cycle.Time'] = cycle_times\n",
    "\n",
    "# Re-arrange columns\n",
    "new_df = new_df[['Cycle','Cycle.Time','Subdivision','Iso.Time']]\n",
    "\n",
    "# Add instrument columns\n",
    "new_df[['D1', 'J1', 'J2']] = np.nan"
   ]
  },
  {
   "cell_type": "code",
   "execution_count": 21,
   "metadata": {},
   "outputs": [
    {
     "data": {
      "text/html": [
       "<div>\n",
       "<style scoped>\n",
       "    .dataframe tbody tr th:only-of-type {\n",
       "        vertical-align: middle;\n",
       "    }\n",
       "\n",
       "    .dataframe tbody tr th {\n",
       "        vertical-align: top;\n",
       "    }\n",
       "\n",
       "    .dataframe thead th {\n",
       "        text-align: right;\n",
       "    }\n",
       "</style>\n",
       "<table border=\"1\" class=\"dataframe\">\n",
       "  <thead>\n",
       "    <tr style=\"text-align: right;\">\n",
       "      <th></th>\n",
       "      <th>Cycle</th>\n",
       "      <th>Cycle.Time</th>\n",
       "      <th>Subdivision</th>\n",
       "      <th>Iso.Time</th>\n",
       "      <th>D1</th>\n",
       "      <th>J1</th>\n",
       "      <th>J2</th>\n",
       "    </tr>\n",
       "  </thead>\n",
       "  <tbody>\n",
       "    <tr>\n",
       "      <th>2472</th>\n",
       "      <td>207</td>\n",
       "      <td>335.231</td>\n",
       "      <td>1</td>\n",
       "      <td>335.23100</td>\n",
       "      <td>NaN</td>\n",
       "      <td>NaN</td>\n",
       "      <td>NaN</td>\n",
       "    </tr>\n",
       "    <tr>\n",
       "      <th>2473</th>\n",
       "      <td>207</td>\n",
       "      <td>NaN</td>\n",
       "      <td>2</td>\n",
       "      <td>335.34325</td>\n",
       "      <td>NaN</td>\n",
       "      <td>NaN</td>\n",
       "      <td>NaN</td>\n",
       "    </tr>\n",
       "    <tr>\n",
       "      <th>2474</th>\n",
       "      <td>207</td>\n",
       "      <td>NaN</td>\n",
       "      <td>3</td>\n",
       "      <td>335.45550</td>\n",
       "      <td>NaN</td>\n",
       "      <td>NaN</td>\n",
       "      <td>NaN</td>\n",
       "    </tr>\n",
       "    <tr>\n",
       "      <th>2475</th>\n",
       "      <td>207</td>\n",
       "      <td>NaN</td>\n",
       "      <td>4</td>\n",
       "      <td>335.56775</td>\n",
       "      <td>NaN</td>\n",
       "      <td>NaN</td>\n",
       "      <td>NaN</td>\n",
       "    </tr>\n",
       "    <tr>\n",
       "      <th>2476</th>\n",
       "      <td>207</td>\n",
       "      <td>NaN</td>\n",
       "      <td>5</td>\n",
       "      <td>335.68000</td>\n",
       "      <td>NaN</td>\n",
       "      <td>NaN</td>\n",
       "      <td>NaN</td>\n",
       "    </tr>\n",
       "    <tr>\n",
       "      <th>2477</th>\n",
       "      <td>207</td>\n",
       "      <td>NaN</td>\n",
       "      <td>6</td>\n",
       "      <td>335.79225</td>\n",
       "      <td>NaN</td>\n",
       "      <td>NaN</td>\n",
       "      <td>NaN</td>\n",
       "    </tr>\n",
       "    <tr>\n",
       "      <th>2478</th>\n",
       "      <td>207</td>\n",
       "      <td>NaN</td>\n",
       "      <td>7</td>\n",
       "      <td>335.90450</td>\n",
       "      <td>NaN</td>\n",
       "      <td>NaN</td>\n",
       "      <td>NaN</td>\n",
       "    </tr>\n",
       "    <tr>\n",
       "      <th>2479</th>\n",
       "      <td>207</td>\n",
       "      <td>NaN</td>\n",
       "      <td>8</td>\n",
       "      <td>336.01675</td>\n",
       "      <td>NaN</td>\n",
       "      <td>NaN</td>\n",
       "      <td>NaN</td>\n",
       "    </tr>\n",
       "    <tr>\n",
       "      <th>2480</th>\n",
       "      <td>207</td>\n",
       "      <td>NaN</td>\n",
       "      <td>9</td>\n",
       "      <td>336.12900</td>\n",
       "      <td>NaN</td>\n",
       "      <td>NaN</td>\n",
       "      <td>NaN</td>\n",
       "    </tr>\n",
       "    <tr>\n",
       "      <th>2481</th>\n",
       "      <td>207</td>\n",
       "      <td>NaN</td>\n",
       "      <td>10</td>\n",
       "      <td>336.24125</td>\n",
       "      <td>NaN</td>\n",
       "      <td>NaN</td>\n",
       "      <td>NaN</td>\n",
       "    </tr>\n",
       "    <tr>\n",
       "      <th>2482</th>\n",
       "      <td>207</td>\n",
       "      <td>NaN</td>\n",
       "      <td>11</td>\n",
       "      <td>336.35350</td>\n",
       "      <td>NaN</td>\n",
       "      <td>NaN</td>\n",
       "      <td>NaN</td>\n",
       "    </tr>\n",
       "    <tr>\n",
       "      <th>2483</th>\n",
       "      <td>207</td>\n",
       "      <td>NaN</td>\n",
       "      <td>12</td>\n",
       "      <td>336.46575</td>\n",
       "      <td>NaN</td>\n",
       "      <td>NaN</td>\n",
       "      <td>NaN</td>\n",
       "    </tr>\n",
       "    <tr>\n",
       "      <th>2484</th>\n",
       "      <td>208</td>\n",
       "      <td>336.578</td>\n",
       "      <td>1</td>\n",
       "      <td>336.57800</td>\n",
       "      <td>NaN</td>\n",
       "      <td>NaN</td>\n",
       "      <td>NaN</td>\n",
       "    </tr>\n",
       "  </tbody>\n",
       "</table>\n",
       "</div>"
      ],
      "text/plain": [
       "      Cycle  Cycle.Time  Subdivision   Iso.Time  D1  J1  J2\n",
       "2472    207     335.231            1  335.23100 NaN NaN NaN\n",
       "2473    207         NaN            2  335.34325 NaN NaN NaN\n",
       "2474    207         NaN            3  335.45550 NaN NaN NaN\n",
       "2475    207         NaN            4  335.56775 NaN NaN NaN\n",
       "2476    207         NaN            5  335.68000 NaN NaN NaN\n",
       "2477    207         NaN            6  335.79225 NaN NaN NaN\n",
       "2478    207         NaN            7  335.90450 NaN NaN NaN\n",
       "2479    207         NaN            8  336.01675 NaN NaN NaN\n",
       "2480    207         NaN            9  336.12900 NaN NaN NaN\n",
       "2481    207         NaN           10  336.24125 NaN NaN NaN\n",
       "2482    207         NaN           11  336.35350 NaN NaN NaN\n",
       "2483    207         NaN           12  336.46575 NaN NaN NaN\n",
       "2484    208     336.578            1  336.57800 NaN NaN NaN"
      ]
     },
     "execution_count": 21,
     "metadata": {},
     "output_type": "execute_result"
    }
   ],
   "source": [
    "new_df.tail(13)"
   ]
  }
 ],
 "metadata": {
  "kernelspec": {
   "display_name": "Python 3",
   "language": "python",
   "name": "python3"
  },
  "language_info": {
   "codemirror_mode": {
    "name": "ipython",
    "version": 3
   },
   "file_extension": ".py",
   "mimetype": "text/x-python",
   "name": "python",
   "nbconvert_exporter": "python",
   "pygments_lexer": "ipython3",
   "version": "3.8.19"
  }
 },
 "nbformat": 4,
 "nbformat_minor": 1
}
